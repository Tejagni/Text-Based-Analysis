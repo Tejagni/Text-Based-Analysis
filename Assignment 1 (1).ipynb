{
 "cells": [
  {
   "cell_type": "code",
   "execution_count": 1,
   "id": "a8e8d5e3",
   "metadata": {},
   "outputs": [],
   "source": [
    "a='hello world'"
   ]
  },
  {
   "cell_type": "code",
   "execution_count": 4,
   "id": "34903bf7",
   "metadata": {},
   "outputs": [
    {
     "name": "stdout",
     "output_type": "stream",
     "text": [
      "Hello World\n"
     ]
    }
   ],
   "source": [
    "  print(a.title()) \n",
    "  "
   ]
  },
  {
   "cell_type": "code",
   "execution_count": 5,
   "id": "c032ab3e",
   "metadata": {},
   "outputs": [
    {
     "name": "stdout",
     "output_type": "stream",
     "text": [
      "hELLO WORLD\n"
     ]
    }
   ],
   "source": [
    "print(a.swapcase()) "
   ]
  },
  {
   "cell_type": "code",
   "execution_count": 6,
   "id": "df1c6d34",
   "metadata": {},
   "outputs": [
    {
     "name": "stdout",
     "output_type": "stream",
     "text": [
      "Hello world\n"
     ]
    }
   ],
   "source": [
    "print(a.capitalize()) "
   ]
  },
  {
   "cell_type": "code",
   "execution_count": 8,
   "id": "ebc0c46d",
   "metadata": {},
   "outputs": [
    {
     "name": "stdout",
     "output_type": "stream",
     "text": [
      "hello\n"
     ]
    }
   ],
   "source": [
    "b='Hello'\n",
    "print(b.casefold())"
   ]
  },
  {
   "cell_type": "code",
   "execution_count": 10,
   "id": "ec061f44",
   "metadata": {},
   "outputs": [
    {
     "name": "stdout",
     "output_type": "stream",
     "text": [
      "Hello world\n"
     ]
    }
   ],
   "source": [
    "b=a.center(25,'#')\n",
    "print(a)"
   ]
  },
  {
   "cell_type": "code",
   "execution_count": 13,
   "id": "7f02aafa",
   "metadata": {},
   "outputs": [
    {
     "name": "stdout",
     "output_type": "stream",
     "text": [
      "      Hello world       \n"
     ]
    }
   ],
   "source": [
    "c=a.center(24)\n",
    "print(c)"
   ]
  },
  {
   "cell_type": "code",
   "execution_count": 14,
   "id": "008bbd55",
   "metadata": {},
   "outputs": [
    {
     "name": "stdout",
     "output_type": "stream",
     "text": [
      "######Hello world#######\n"
     ]
    }
   ],
   "source": [
    "c=a.center(24,'#')\n",
    "print(c)"
   ]
  },
  {
   "cell_type": "code",
   "execution_count": 20,
   "id": "bf47f690",
   "metadata": {},
   "outputs": [
    {
     "name": "stdout",
     "output_type": "stream",
     "text": [
      "2\n"
     ]
    }
   ],
   "source": [
    "a='welcome to my world'\n",
    "char_count=a.count('w')\n",
    "print(char_count)\n"
   ]
  },
  {
   "cell_type": "code",
   "execution_count": 21,
   "id": "8901c25f",
   "metadata": {},
   "outputs": [
    {
     "name": "stdout",
     "output_type": "stream",
     "text": [
      "1\n"
     ]
    }
   ],
   "source": [
    "a='welcome to my world'\n",
    "char_count=a.count('world')\n",
    "print(char_count)"
   ]
  },
  {
   "cell_type": "code",
   "execution_count": 30,
   "id": "2bb7a613",
   "metadata": {},
   "outputs": [
    {
     "name": "stdout",
     "output_type": "stream",
     "text": [
      "My name is Ram and I am 22 years \\old. 22 is my favorite                     number.\n"
     ]
    }
   ],
   "source": [
    "name = \"Ram\"\n",
    "age = 22\n",
    "message = \"My name is {0} and I am {1} years \\old. {1} is my favorite \\\n",
    "                    number.\".format(name, age)\n",
    "print(message)"
   ]
  },
  {
   "cell_type": "code",
   "execution_count": 1,
   "id": "94cc00a5",
   "metadata": {},
   "outputs": [
    {
     "name": "stdout",
     "output_type": "stream",
     "text": [
      "The original string is : Hello world \n",
      "The reversed string(using loops) is :  dlrow olleH\n"
     ]
    }
   ],
   "source": [
    "def reverse(s):\n",
    "\tstr = \"\"\n",
    "\tfor i in s:\n",
    "\t\tstr = i + str\n",
    "\treturn str\n",
    "\n",
    "s = \"Hello world \"\n",
    "\n",
    "print(\"The original string is : \", end=\"\")\n",
    "print(s)\n",
    "\n",
    "print(\"The reversed string(using loops) is : \", end=\"\")\n",
    "print(reverse(s))\n"
   ]
  },
  {
   "cell_type": "code",
   "execution_count": 2,
   "id": "14eaef36",
   "metadata": {},
   "outputs": [
    {
     "name": "stdout",
     "output_type": "stream",
     "text": [
      "H\n",
      "e\n",
      "l\n",
      "l\n",
      "o\n",
      " \n",
      "w\n",
      "o\n",
      "r\n",
      "l\n",
      "d\n"
     ]
    }
   ],
   "source": [
    "\n",
    "\n",
    "string_name = \"Hello world\"\n",
    "\n",
    "# Iterate over the string\n",
    "for i, v in enumerate(string_name):\n",
    "\tprint(v)\n"
   ]
  },
  {
   "cell_type": "code",
   "execution_count": 4,
   "id": "d51c1a91",
   "metadata": {},
   "outputs": [
    {
     "name": "stdout",
     "output_type": "stream",
     "text": [
      "d\n",
      "l\n",
      "r\n",
      "o\n",
      "w\n",
      " \n",
      "o\n",
      "l\n",
      "l\n",
      "e\n",
      "H\n"
     ]
    }
   ],
   "source": [
    "ran = len(string_name)\n",
    " \n",
    "# using reversed() function\n",
    "for element in reversed(range(0, ran)):\n",
    "    print(string_name[element])"
   ]
  },
  {
   "cell_type": "code",
   "execution_count": 5,
   "id": "facd90f5",
   "metadata": {},
   "outputs": [
    {
     "name": "stdout",
     "output_type": "stream",
     "text": [
      "<class 'str'>\n",
      "<class 'int'>\n"
     ]
    }
   ],
   "source": [
    "# Initialising a string \n",
    "# with hexadecimal value \n",
    "string = \"0x12F\"\n",
    "\n",
    "# Show the Data type \n",
    "print(type(string)) \n",
    "\n",
    "# Converting hexadecimal \n",
    "# string into int \n",
    "string_to_int = int(string, base=16) \n",
    "# Show the Data type \n",
    "print(type(string_to_int))\n"
   ]
  },
  {
   "cell_type": "code",
   "execution_count": 7,
   "id": "c77566df",
   "metadata": {},
   "outputs": [
    {
     "name": "stdout",
     "output_type": "stream",
     "text": [
      "True\n",
      "False\n",
      "False\n",
      "False\n",
      "True\n"
     ]
    }
   ],
   "source": [
    "print(\"Hello\" == \"Hello\")\n",
    "print(\"Hello\" < \"Hello\")\n",
    "print(\"Hello\" > \"hello\")\n",
    "print(\"Hello\" != \"Hello\")\n",
    "print(\"Hello\" < \"hello\")"
   ]
  },
  {
   "cell_type": "code",
   "execution_count": 9,
   "id": "1724bb9d",
   "metadata": {},
   "outputs": [
    {
     "name": "stdout",
     "output_type": "stream",
     "text": [
      "Welcome to world\n",
      "Hello ! This is world.\n"
     ]
    }
   ],
   "source": [
    "n1 = 'Hello'\n",
    "n2 = 'world'\n",
    "\n",
    "# for single substitution\n",
    "print(\"Welcome to % s\" % n2)\n",
    "\n",
    "# for single and multiple substitutions()\n",
    "# mandatory\n",
    "print(\"% s ! This is % s.\" % (n1, n2))\n"
   ]
  },
  {
   "cell_type": "code",
   "execution_count": 10,
   "id": "3ff61c8f",
   "metadata": {},
   "outputs": [
    {
     "name": "stdout",
     "output_type": "stream",
     "text": [
      "HelloforHello is a portal for Hello.\n",
      "Hello, My name is Tushar and I'm 23 years old.\n"
     ]
    }
   ],
   "source": [
    "# Python3 program introducing f-string\n",
    "val = 'Hello'\n",
    "print(f\"{val}for{val} is a portal for {val}.\")\n",
    "\n",
    "\n",
    "name = 'Tushar'\n",
    "age = 23\n",
    "print(f\"Hello, My name is {name} and I'm {age} years old.\")\n"
   ]
  },
  {
   "cell_type": "code",
   "execution_count": 11,
   "id": "4b141466",
   "metadata": {},
   "outputs": [
    {
     "name": "stdout",
     "output_type": "stream",
     "text": [
      "April 12, 2024\n"
     ]
    }
   ],
   "source": [
    "# Prints today's date with help\n",
    "# of datetime library\n",
    "import datetime\n",
    "\n",
    "today = datetime.datetime.today()\n",
    "print(f\"{today:%B %d, %Y}\")\n"
   ]
  },
  {
   "cell_type": "code",
   "execution_count": 32,
   "id": "22359669",
   "metadata": {},
   "outputs": [
    {
     "name": "stdout",
     "output_type": "stream",
     "text": [
      "H\n",
      "d\n"
     ]
    }
   ],
   "source": [
    "## String Indexing\n",
    " \n",
    "#Assigning string \"Hello world\" to variable name\n",
    "name = \"Hello world\"\n",
    "\n",
    "#Printing the index of 0 of variable name\n",
    "print(name[0])\n",
    "\n",
    "#Printing the index of -1 of variable name\n",
    "print(name[-1])"
   ]
  },
  {
   "cell_type": "code",
   "execution_count": 33,
   "id": "64c04761",
   "metadata": {},
   "outputs": [
    {
     "name": "stdout",
     "output_type": "stream",
     "text": [
      "Hell\n",
      " world\n"
     ]
    }
   ],
   "source": [
    "## String Slicing\n",
    "\n",
    "#Assigning string 'Hello world' to variable name\n",
    "name = \"Hello world\"\n",
    "\n",
    "#Printing the substring of the variable name from index 0 to index 4\n",
    "print(name[0:4])\n",
    "\n",
    "#Printing the substring of the variable name from index 5 to the end\n",
    "print(name[5:])"
   ]
  },
  {
   "cell_type": "code",
   "execution_count": 34,
   "id": "96cf36e9",
   "metadata": {},
   "outputs": [
    {
     "name": "stdout",
     "output_type": "stream",
     "text": [
      "11\n"
     ]
    }
   ],
   "source": [
    "## String Length\n",
    "\n",
    "#Assigning \"Hello world\" to variable name\n",
    "name = \"Hello world\"\n",
    "\n",
    "#Printing the length of the name\n",
    "print(len(name))"
   ]
  },
  {
   "cell_type": "code",
   "execution_count": 35,
   "id": "c24e4d83",
   "metadata": {},
   "outputs": [
    {
     "name": "stdout",
     "output_type": "stream",
     "text": [
      "Hello world\n"
     ]
    }
   ],
   "source": [
    "## String replace\n",
    "\n",
    "#Assigning \"Hello world\" to variable name\n",
    "name = \"Hello world\"\n",
    "\n",
    "#Using replace(old, new) to replace new with the old\n",
    "print(name.replace(\"V\", \"D\"))"
   ]
  },
  {
   "cell_type": "code",
   "execution_count": 36,
   "id": "cb8728d4",
   "metadata": {},
   "outputs": [
    {
     "name": "stdout",
     "output_type": "stream",
     "text": [
      "Hello world\n"
     ]
    }
   ],
   "source": [
    "## String Concatenation\n",
    "\n",
    "#Assigning string 'Hello' to variable first_name\n",
    "first_name = \"Hello\"\n",
    "\n",
    "#Assigning string 'world' to variable last_name\n",
    "last_name = \"world\"\n",
    "\n",
    "#Concatenating first_name and last_name to variable full_name\n",
    "full_name = first_name + \" \" + last_name\n",
    "\n",
    "#Printing the value of a variable full_name\n",
    "print(full_name)"
   ]
  },
  {
   "cell_type": "code",
   "execution_count": 37,
   "id": "fffb022e",
   "metadata": {},
   "outputs": [
    {
     "name": "stdout",
     "output_type": "stream",
     "text": [
      "True\n",
      "False\n"
     ]
    }
   ],
   "source": [
    "## String Method - isspace()\n",
    "\n",
    "#Assigning string ' ' to a variable name\n",
    "name = ' '\n",
    "\n",
    "#Using isspace() to check if all the characters in the string contains spaces or not\n",
    "print(name.isspace())\n",
    "\n",
    "#Assigning string 'Hello world' to a variable name\n",
    "name = 'Hello world'\n",
    "\n",
    "#Using isspace() to check if all the characters in the string contains spaces or not\n",
    "print(name.isspace())"
   ]
  },
  {
   "cell_type": "code",
   "execution_count": 17,
   "id": "df092def",
   "metadata": {},
   "outputs": [
    {
     "name": "stdout",
     "output_type": "stream",
     "text": [
      "['h', 'i', 'c', 'h', 'i', 'l', 'i', 'e', 'j', 'g', 'n', 'i', 'e', 'd', 'd', 'y']\n",
      "['C', 'T', 'R']\n"
     ]
    }
   ],
   "source": [
    "import re\n",
    "\n",
    "txt = \"Chichili Tejagni Reddy\"\n",
    "\n",
    "#Find all lower case characters alphabetically between \"b\" and \"z\" and \"C-Z\":\n",
    "\n",
    "x = re.findall(\"[b-z]\", txt)\n",
    "print(x)\n",
    "\n",
    "y = re.findall(\"[C-Z]\", txt)\n",
    "print(y)"
   ]
  },
  {
   "cell_type": "code",
   "execution_count": 25,
   "id": "dce7dae0",
   "metadata": {},
   "outputs": [
    {
     "name": "stdout",
     "output_type": "stream",
     "text": [
      "['hi', 'hi']\n"
     ]
    }
   ],
   "source": [
    "import re\n",
    "\n",
    "txt = \"Chichili Tejagni Reddy\"\n",
    "#Check if the string character hi:\n",
    "x = re.findall(\"\\Bhi\", txt)\n",
    "\n",
    "print(x)"
   ]
  },
  {
   "cell_type": "code",
   "execution_count": 26,
   "id": "ec59091a",
   "metadata": {},
   "outputs": [
    {
     "name": "stdout",
     "output_type": "stream",
     "text": [
      "['C', 'h', 'i', 'c', 'h', 'i', 'l', 'i', ' ', 'T', 'e', 'j', 'g', 'i', ' ', 'R', 'e', 'd', 'd', 'y']\n"
     ]
    }
   ],
   "source": [
    "import re\n",
    "\n",
    "txt = \"Chichili Tejagni Reddy\"\n",
    "\n",
    "#Check if the string has other characters than a, r, or n:\n",
    "\n",
    "x = re.findall(\"[^arn]\", txt)\n",
    "\n",
    "print(x)"
   ]
  },
  {
   "cell_type": "code",
   "execution_count": 12,
   "id": "30f78c0d",
   "metadata": {},
   "outputs": [
    {
     "name": "stdout",
     "output_type": "stream",
     "text": [
      "['mat', 'cat', ' at', 'pat', 'lat']\n"
     ]
    }
   ],
   "source": [
    "import regex as re\n",
    "def tokenize(text):\n",
    "    return re.findall(r'.at', text)\n",
    "\n",
    "x = tokenize(\"matcat at pat lat ant\")\n",
    "print(x)"
   ]
  },
  {
   "cell_type": "code",
   "execution_count": 31,
   "id": "b8dd5396",
   "metadata": {},
   "outputs": [
    {
     "name": "stdout",
     "output_type": "stream",
     "text": [
      "['T', 'R', 'y']\n"
     ]
    }
   ],
   "source": [
    "import re\n",
    "\n",
    "txt = \"Chichili Tejagni Reddy\"\n",
    "\n",
    "#Find all characters alphabetically between \"s\"-\"y\" and \"H\"-\"Y\":\n",
    "\n",
    "x = re.findall(\"[s-yH-Y]\", txt)\n",
    "print(x)"
   ]
  },
  {
   "cell_type": "code",
   "execution_count": null,
   "id": "68e705db",
   "metadata": {},
   "outputs": [],
   "source": []
  }
 ],
 "metadata": {
  "kernelspec": {
   "display_name": "Python 3 (ipykernel)",
   "language": "python",
   "name": "python3"
  },
  "language_info": {
   "codemirror_mode": {
    "name": "ipython",
    "version": 3
   },
   "file_extension": ".py",
   "mimetype": "text/x-python",
   "name": "python",
   "nbconvert_exporter": "python",
   "pygments_lexer": "ipython3",
   "version": "3.11.5"
  }
 },
 "nbformat": 4,
 "nbformat_minor": 5
}
