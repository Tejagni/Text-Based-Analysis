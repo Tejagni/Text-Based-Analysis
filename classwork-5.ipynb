{
 "cells": [
  {
   "cell_type": "code",
   "execution_count": 1,
   "id": "10206829",
   "metadata": {},
   "outputs": [],
   "source": [
    "import pandas as pd"
   ]
  },
  {
   "cell_type": "markdown",
   "id": "38fb8419",
   "metadata": {},
   "source": [
    "## read the dataset"
   ]
  },
  {
   "cell_type": "code",
   "execution_count": 4,
   "id": "3f8821b4",
   "metadata": {},
   "outputs": [
    {
     "data": {
      "text/html": [
       "<div>\n",
       "<style scoped>\n",
       "    .dataframe tbody tr th:only-of-type {\n",
       "        vertical-align: middle;\n",
       "    }\n",
       "\n",
       "    .dataframe tbody tr th {\n",
       "        vertical-align: top;\n",
       "    }\n",
       "\n",
       "    .dataframe thead th {\n",
       "        text-align: right;\n",
       "    }\n",
       "</style>\n",
       "<table border=\"1\" class=\"dataframe\">\n",
       "  <thead>\n",
       "    <tr style=\"text-align: right;\">\n",
       "      <th></th>\n",
       "      <th>overall</th>\n",
       "      <th>verified</th>\n",
       "      <th>reviewTime</th>\n",
       "      <th>reviewerID</th>\n",
       "      <th>asin</th>\n",
       "      <th>style</th>\n",
       "      <th>reviewerName</th>\n",
       "      <th>reviewText</th>\n",
       "      <th>summary</th>\n",
       "      <th>unixReviewTime</th>\n",
       "      <th>vote</th>\n",
       "      <th>image</th>\n",
       "    </tr>\n",
       "  </thead>\n",
       "  <tbody>\n",
       "    <tr>\n",
       "      <th>206091</th>\n",
       "      <td>5</td>\n",
       "      <td>False</td>\n",
       "      <td>09 20, 2016</td>\n",
       "      <td>A10ER0QRF75REP</td>\n",
       "      <td>B0049UXGD0</td>\n",
       "      <td>{'Size:': ' 11\"X15\"', 'Style Name:': ' Fold Ov...</td>\n",
       "      <td>mandi</td>\n",
       "      <td>I honestly have no idea why there are so many ...</td>\n",
       "      <td>Really good paper</td>\n",
       "      <td>1474329600</td>\n",
       "      <td>NaN</td>\n",
       "      <td>NaN</td>\n",
       "    </tr>\n",
       "    <tr>\n",
       "      <th>47311</th>\n",
       "      <td>5</td>\n",
       "      <td>False</td>\n",
       "      <td>07 5, 2014</td>\n",
       "      <td>A226PCEQ2KECRJ</td>\n",
       "      <td>B000XAPLKQ</td>\n",
       "      <td>{'Size:': ' 5 Inch Titanium'}</td>\n",
       "      <td>rpbllbarfield</td>\n",
       "      <td>These are the best scissors that I've ever own...</td>\n",
       "      <td>Nice feature with the spring, stays sharp and ...</td>\n",
       "      <td>1404518400</td>\n",
       "      <td>NaN</td>\n",
       "      <td>NaN</td>\n",
       "    </tr>\n",
       "    <tr>\n",
       "      <th>91416</th>\n",
       "      <td>5</td>\n",
       "      <td>True</td>\n",
       "      <td>08 10, 2017</td>\n",
       "      <td>A1OOTBN9ZSK6UD</td>\n",
       "      <td>B000XAO5NK</td>\n",
       "      <td>{'Color:': ' Ivory'}</td>\n",
       "      <td>CV</td>\n",
       "      <td>Very elegant. I'm glad I found it after spendi...</td>\n",
       "      <td>Beautiful and sturdy</td>\n",
       "      <td>1502323200</td>\n",
       "      <td>NaN</td>\n",
       "      <td>NaN</td>\n",
       "    </tr>\n",
       "    <tr>\n",
       "      <th>401935</th>\n",
       "      <td>2</td>\n",
       "      <td>True</td>\n",
       "      <td>06 24, 2017</td>\n",
       "      <td>A2AZGGKOGLE2L4</td>\n",
       "      <td>B01AVVVVZA</td>\n",
       "      <td>{'Color:': ' Serrated-Purple'}</td>\n",
       "      <td>Mimi</td>\n",
       "      <td>Really want to give 1* but...I have small hand...</td>\n",
       "      <td>Awful!</td>\n",
       "      <td>1498262400</td>\n",
       "      <td>2</td>\n",
       "      <td>NaN</td>\n",
       "    </tr>\n",
       "    <tr>\n",
       "      <th>480707</th>\n",
       "      <td>5</td>\n",
       "      <td>True</td>\n",
       "      <td>10 24, 2015</td>\n",
       "      <td>A1VVAH8TWB9MNL</td>\n",
       "      <td>B00Q79FLXO</td>\n",
       "      <td>NaN</td>\n",
       "      <td>C. Obrien</td>\n",
       "      <td>The colors are so much more bright and fur lon...</td>\n",
       "      <td>Love my purchase</td>\n",
       "      <td>1445644800</td>\n",
       "      <td>NaN</td>\n",
       "      <td>NaN</td>\n",
       "    </tr>\n",
       "    <tr>\n",
       "      <th>94166</th>\n",
       "      <td>4</td>\n",
       "      <td>True</td>\n",
       "      <td>08 30, 2014</td>\n",
       "      <td>A217PCW72U1ULQ</td>\n",
       "      <td>B000XZWD7K</td>\n",
       "      <td>NaN</td>\n",
       "      <td>Danielle</td>\n",
       "      <td>I bought this adhesive for fashioning a statio...</td>\n",
       "      <td>the bond is not all that terribly strong. I co...</td>\n",
       "      <td>1409356800</td>\n",
       "      <td>2</td>\n",
       "      <td>NaN</td>\n",
       "    </tr>\n",
       "    <tr>\n",
       "      <th>113974</th>\n",
       "      <td>1</td>\n",
       "      <td>True</td>\n",
       "      <td>02 24, 2018</td>\n",
       "      <td>A3PXDXSCKCIVDG</td>\n",
       "      <td>B00134C4HO</td>\n",
       "      <td>NaN</td>\n",
       "      <td>Alyx</td>\n",
       "      <td>pulls the fabric. Not sharp. Not worth using.</td>\n",
       "      <td>Not sharp, pulls fabric, not worth using.</td>\n",
       "      <td>1519430400</td>\n",
       "      <td>NaN</td>\n",
       "      <td>NaN</td>\n",
       "    </tr>\n",
       "    <tr>\n",
       "      <th>206652</th>\n",
       "      <td>4</td>\n",
       "      <td>True</td>\n",
       "      <td>04 13, 2014</td>\n",
       "      <td>A31LPO6T7NRRCN</td>\n",
       "      <td>B004ALF72G</td>\n",
       "      <td>NaN</td>\n",
       "      <td>calicocatt</td>\n",
       "      <td>I have a lot of shoulder pain and crocheting m...</td>\n",
       "      <td>Helpful Crochet Item</td>\n",
       "      <td>1397347200</td>\n",
       "      <td>NaN</td>\n",
       "      <td>NaN</td>\n",
       "    </tr>\n",
       "    <tr>\n",
       "      <th>487103</th>\n",
       "      <td>5</td>\n",
       "      <td>True</td>\n",
       "      <td>06 10, 2018</td>\n",
       "      <td>A36D6UC1FH5AXX</td>\n",
       "      <td>B013WGRIH6</td>\n",
       "      <td>{'Color:': ' White'}</td>\n",
       "      <td>Amazon Customer</td>\n",
       "      <td>As described.  Great service.  THANKS!</td>\n",
       "      <td>Great service. THANKS</td>\n",
       "      <td>1528588800</td>\n",
       "      <td>NaN</td>\n",
       "      <td>NaN</td>\n",
       "    </tr>\n",
       "    <tr>\n",
       "      <th>198786</th>\n",
       "      <td>5</td>\n",
       "      <td>True</td>\n",
       "      <td>03 12, 2017</td>\n",
       "      <td>A31CWJUGPYQI63</td>\n",
       "      <td>B003TD9THA</td>\n",
       "      <td>{'Size:': ' Pink Knitting Needle set - Pastels'}</td>\n",
       "      <td>justme</td>\n",
       "      <td>I love Denise Interchangeable Needles. I love ...</td>\n",
       "      <td>Five Stars</td>\n",
       "      <td>1489276800</td>\n",
       "      <td>NaN</td>\n",
       "      <td>NaN</td>\n",
       "    </tr>\n",
       "  </tbody>\n",
       "</table>\n",
       "</div>"
      ],
      "text/plain": [
       "        overall  verified   reviewTime      reviewerID        asin  \\\n",
       "206091        5     False  09 20, 2016  A10ER0QRF75REP  B0049UXGD0   \n",
       "47311         5     False   07 5, 2014  A226PCEQ2KECRJ  B000XAPLKQ   \n",
       "91416         5      True  08 10, 2017  A1OOTBN9ZSK6UD  B000XAO5NK   \n",
       "401935        2      True  06 24, 2017  A2AZGGKOGLE2L4  B01AVVVVZA   \n",
       "480707        5      True  10 24, 2015  A1VVAH8TWB9MNL  B00Q79FLXO   \n",
       "94166         4      True  08 30, 2014  A217PCW72U1ULQ  B000XZWD7K   \n",
       "113974        1      True  02 24, 2018  A3PXDXSCKCIVDG  B00134C4HO   \n",
       "206652        4      True  04 13, 2014  A31LPO6T7NRRCN  B004ALF72G   \n",
       "487103        5      True  06 10, 2018  A36D6UC1FH5AXX  B013WGRIH6   \n",
       "198786        5      True  03 12, 2017  A31CWJUGPYQI63  B003TD9THA   \n",
       "\n",
       "                                                    style     reviewerName  \\\n",
       "206091  {'Size:': ' 11\"X15\"', 'Style Name:': ' Fold Ov...            mandi   \n",
       "47311                       {'Size:': ' 5 Inch Titanium'}    rpbllbarfield   \n",
       "91416                                {'Color:': ' Ivory'}               CV   \n",
       "401935                     {'Color:': ' Serrated-Purple'}             Mimi   \n",
       "480707                                                NaN        C. Obrien   \n",
       "94166                                                 NaN         Danielle   \n",
       "113974                                                NaN             Alyx   \n",
       "206652                                                NaN       calicocatt   \n",
       "487103                               {'Color:': ' White'}  Amazon Customer   \n",
       "198786   {'Size:': ' Pink Knitting Needle set - Pastels'}           justme   \n",
       "\n",
       "                                               reviewText  \\\n",
       "206091  I honestly have no idea why there are so many ...   \n",
       "47311   These are the best scissors that I've ever own...   \n",
       "91416   Very elegant. I'm glad I found it after spendi...   \n",
       "401935  Really want to give 1* but...I have small hand...   \n",
       "480707  The colors are so much more bright and fur lon...   \n",
       "94166   I bought this adhesive for fashioning a statio...   \n",
       "113974      pulls the fabric. Not sharp. Not worth using.   \n",
       "206652  I have a lot of shoulder pain and crocheting m...   \n",
       "487103             As described.  Great service.  THANKS!   \n",
       "198786  I love Denise Interchangeable Needles. I love ...   \n",
       "\n",
       "                                                  summary  unixReviewTime  \\\n",
       "206091                                  Really good paper      1474329600   \n",
       "47311   Nice feature with the spring, stays sharp and ...      1404518400   \n",
       "91416                                Beautiful and sturdy      1502323200   \n",
       "401935                                             Awful!      1498262400   \n",
       "480707                                   Love my purchase      1445644800   \n",
       "94166   the bond is not all that terribly strong. I co...      1409356800   \n",
       "113974          Not sharp, pulls fabric, not worth using.      1519430400   \n",
       "206652                               Helpful Crochet Item      1397347200   \n",
       "487103                              Great service. THANKS      1528588800   \n",
       "198786                                         Five Stars      1489276800   \n",
       "\n",
       "       vote image  \n",
       "206091  NaN   NaN  \n",
       "47311   NaN   NaN  \n",
       "91416   NaN   NaN  \n",
       "401935    2   NaN  \n",
       "480707  NaN   NaN  \n",
       "94166     2   NaN  \n",
       "113974  NaN   NaN  \n",
       "206652  NaN   NaN  \n",
       "487103  NaN   NaN  \n",
       "198786  NaN   NaN  "
      ]
     },
     "execution_count": 4,
     "metadata": {},
     "output_type": "execute_result"
    }
   ],
   "source": [
    "df = pd.read_json(\"C:\\\\Users\\\\tejag\\\\Downloads\\\\Arts_Crafts_and_Sewing_5.json\",lines=True)\n",
    "df.sample(10)"
   ]
  },
  {
   "cell_type": "markdown",
   "id": "bd976da7",
   "metadata": {},
   "source": [
    "## Getting the Bing Liu lexicon"
   ]
  },
  {
   "cell_type": "code",
   "execution_count": 6,
   "id": "9041baa8",
   "metadata": {},
   "outputs": [
    {
     "name": "stderr",
     "output_type": "stream",
     "text": [
      "[nltk_data] Downloading package opinion_lexicon to\n",
      "[nltk_data]     C:\\Users\\tejag\\AppData\\Roaming\\nltk_data...\n",
      "[nltk_data]   Package opinion_lexicon is already up-to-date!\n"
     ]
    }
   ],
   "source": [
    "from sklearn import preprocessing\n",
    "import nltk\n",
    "nltk.download('opinion_lexicon')\n",
    "from nltk.corpus import opinion_lexicon\n",
    "from nltk.tokenize import word_tokenize\n"
   ]
  },
  {
   "cell_type": "markdown",
   "id": "78695511",
   "metadata": {},
   "source": [
    "## Total number of words"
   ]
  },
  {
   "cell_type": "code",
   "execution_count": 7,
   "id": "032d6f9a",
   "metadata": {},
   "outputs": [
    {
     "name": "stdout",
     "output_type": "stream",
     "text": [
      "Total number of words in opinion lexicon 6789\n"
     ]
    }
   ],
   "source": [
    "print('Total number of words in opinion lexicon', len(opinion_lexicon.words()))\n"
   ]
  },
  {
   "cell_type": "markdown",
   "id": "befab62b",
   "metadata": {},
   "source": [
    "## Example of positive words"
   ]
  },
  {
   "cell_type": "code",
   "execution_count": 8,
   "id": "6e7ecd43",
   "metadata": {},
   "outputs": [
    {
     "name": "stdout",
     "output_type": "stream",
     "text": [
      "Examples of positive words in opinion lexicon ['a+', 'abound', 'abounds', 'abundance', 'abundant', 'accessable', 'accessible', 'acclaim', 'acclaimed', 'acclamation']\n"
     ]
    }
   ],
   "source": [
    "print('Examples of positive words in opinion lexicon',\n",
    "opinion_lexicon.positive()[:10])\n"
   ]
  },
  {
   "cell_type": "markdown",
   "id": "589ccffb",
   "metadata": {},
   "source": [
    "## Example of negative  words"
   ]
  },
  {
   "cell_type": "code",
   "execution_count": 9,
   "id": "1093f7a6",
   "metadata": {},
   "outputs": [
    {
     "name": "stdout",
     "output_type": "stream",
     "text": [
      "Examples of negative words in opinion lexicon ['2-faced', '2-faces', 'abnormal', 'abolish', 'abominable', 'abominably', 'abominate', 'abomination', 'abort', 'aborted']\n"
     ]
    }
   ],
   "source": [
    "print('Examples of negative words in opinion lexicon',\n",
    "opinion_lexicon.negative()[:10])"
   ]
  },
  {
   "cell_type": "markdown",
   "id": "fd8950a7",
   "metadata": {},
   "source": [
    "## Creating the Dictionary"
   ]
  },
  {
   "cell_type": "code",
   "execution_count": 10,
   "id": "a4c4f407",
   "metadata": {},
   "outputs": [
    {
     "name": "stderr",
     "output_type": "stream",
     "text": [
      "[nltk_data] Downloading package punkt to\n",
      "[nltk_data]     C:\\Users\\tejag\\AppData\\Roaming\\nltk_data...\n",
      "[nltk_data]   Package punkt is already up-to-date!\n"
     ]
    }
   ],
   "source": [
    "#Let's create a dictionary which we can use for scoring our review text\n",
    "nltk.download('punkt')\n",
    "df.rename(columns={\"reviewText\": \"text\"}, inplace=True)\n",
    "pos_score = 1\n",
    "neg_score = -1\n",
    "word_dict = {}"
   ]
  },
  {
   "cell_type": "code",
   "execution_count": 14,
   "id": "18ca5c13",
   "metadata": {},
   "outputs": [],
   "source": [
    "# Adding the positive words to the dictionary\n",
    "for word in opinion_lexicon.positive():\n",
    "    word_dict[word] = pos_score"
   ]
  },
  {
   "cell_type": "code",
   "execution_count": 15,
   "id": "b1c6dbb4",
   "metadata": {},
   "outputs": [],
   "source": [
    "# Adding the negative words to the dictionary\n",
    "for word in opinion_lexicon.negative():\n",
    "    word_dict[word] = neg_score"
   ]
  },
  {
   "cell_type": "markdown",
   "id": "cb02208c",
   "metadata": {},
   "source": [
    "## Math Function"
   ]
  },
  {
   "cell_type": "code",
   "execution_count": 22,
   "id": "44287755",
   "metadata": {},
   "outputs": [],
   "source": [
    "def bing_liu_score(text):\n",
    "    sentiment_score = 0\n",
    "    bag_of_words = word_tokenize(text.lower())\n",
    "    for word in bag_of_words:\n",
    "        if word in word_dict:\n",
    "            sentiment_score += word_dict[word]\n",
    "    return sentiment_score"
   ]
  },
  {
   "cell_type": "code",
   "execution_count": 23,
   "id": "b7f0ad85",
   "metadata": {},
   "outputs": [],
   "source": [
    "df['text'].fillna('no review', inplace=True)\n",
    "df['Bing_Liu_Score'] = df['text'].apply(bing_liu_score)"
   ]
  },
  {
   "cell_type": "markdown",
   "id": "15c6fa11",
   "metadata": {},
   "source": [
    "## Output Code"
   ]
  },
  {
   "cell_type": "code",
   "execution_count": 24,
   "id": "f48fa160",
   "metadata": {},
   "outputs": [
    {
     "data": {
      "text/html": [
       "<div>\n",
       "<style scoped>\n",
       "    .dataframe tbody tr th:only-of-type {\n",
       "        vertical-align: middle;\n",
       "    }\n",
       "\n",
       "    .dataframe tbody tr th {\n",
       "        vertical-align: top;\n",
       "    }\n",
       "\n",
       "    .dataframe thead th {\n",
       "        text-align: right;\n",
       "    }\n",
       "</style>\n",
       "<table border=\"1\" class=\"dataframe\">\n",
       "  <thead>\n",
       "    <tr style=\"text-align: right;\">\n",
       "      <th></th>\n",
       "      <th>overall</th>\n",
       "      <th>text</th>\n",
       "      <th>Bing_Liu_Score</th>\n",
       "    </tr>\n",
       "  </thead>\n",
       "  <tbody>\n",
       "    <tr>\n",
       "      <th>0</th>\n",
       "      <td>4</td>\n",
       "      <td>Contains some interesting stitches.</td>\n",
       "      <td>1</td>\n",
       "    </tr>\n",
       "    <tr>\n",
       "      <th>1</th>\n",
       "      <td>5</td>\n",
       "      <td>I'm a fairly experienced knitter of the one-co...</td>\n",
       "      <td>22</td>\n",
       "    </tr>\n",
       "    <tr>\n",
       "      <th>2</th>\n",
       "      <td>4</td>\n",
       "      <td>Great book but the index is terrible. Had to w...</td>\n",
       "      <td>0</td>\n",
       "    </tr>\n",
       "    <tr>\n",
       "      <th>3</th>\n",
       "      <td>5</td>\n",
       "      <td>I purchased the Kindle edition which is incred...</td>\n",
       "      <td>4</td>\n",
       "    </tr>\n",
       "    <tr>\n",
       "      <th>4</th>\n",
       "      <td>5</td>\n",
       "      <td>Very well laid out and very easy to read.\\n\\nT...</td>\n",
       "      <td>5</td>\n",
       "    </tr>\n",
       "    <tr>\n",
       "      <th>5</th>\n",
       "      <td>5</td>\n",
       "      <td>Beginning her career as a freelance knitter, M...</td>\n",
       "      <td>15</td>\n",
       "    </tr>\n",
       "    <tr>\n",
       "      <th>6</th>\n",
       "      <td>5</td>\n",
       "      <td>This is a terrific stitch handbook (and I have...</td>\n",
       "      <td>9</td>\n",
       "    </tr>\n",
       "    <tr>\n",
       "      <th>7</th>\n",
       "      <td>4</td>\n",
       "      <td>The book needs to be coil bound. The content i...</td>\n",
       "      <td>1</td>\n",
       "    </tr>\n",
       "    <tr>\n",
       "      <th>8</th>\n",
       "      <td>5</td>\n",
       "      <td>I really am enjoying this book! I like the siz...</td>\n",
       "      <td>12</td>\n",
       "    </tr>\n",
       "    <tr>\n",
       "      <th>9</th>\n",
       "      <td>5</td>\n",
       "      <td>Just received this book and looked over it cov...</td>\n",
       "      <td>6</td>\n",
       "    </tr>\n",
       "  </tbody>\n",
       "</table>\n",
       "</div>"
      ],
      "text/plain": [
       "   overall                                               text  Bing_Liu_Score\n",
       "0        4                Contains some interesting stitches.               1\n",
       "1        5  I'm a fairly experienced knitter of the one-co...              22\n",
       "2        4  Great book but the index is terrible. Had to w...               0\n",
       "3        5  I purchased the Kindle edition which is incred...               4\n",
       "4        5  Very well laid out and very easy to read.\\n\\nT...               5\n",
       "5        5  Beginning her career as a freelance knitter, M...              15\n",
       "6        5  This is a terrific stitch handbook (and I have...               9\n",
       "7        4  The book needs to be coil bound. The content i...               1\n",
       "8        5  I really am enjoying this book! I like the siz...              12\n",
       "9        5  Just received this book and looked over it cov...               6"
      ]
     },
     "execution_count": 24,
     "metadata": {},
     "output_type": "execute_result"
    }
   ],
   "source": [
    "df[['overall',\"text\", 'Bing_Liu_Score']].head(10)"
   ]
  },
  {
   "cell_type": "code",
   "execution_count": 25,
   "id": "f727a248",
   "metadata": {},
   "outputs": [
    {
     "data": {
      "text/html": [
       "<div>\n",
       "<style scoped>\n",
       "    .dataframe tbody tr th:only-of-type {\n",
       "        vertical-align: middle;\n",
       "    }\n",
       "\n",
       "    .dataframe tbody tr th {\n",
       "        vertical-align: top;\n",
       "    }\n",
       "\n",
       "    .dataframe thead th {\n",
       "        text-align: right;\n",
       "    }\n",
       "</style>\n",
       "<table border=\"1\" class=\"dataframe\">\n",
       "  <thead>\n",
       "    <tr style=\"text-align: right;\">\n",
       "      <th></th>\n",
       "      <th>Bing_Liu_Score</th>\n",
       "    </tr>\n",
       "    <tr>\n",
       "      <th>overall</th>\n",
       "      <th></th>\n",
       "    </tr>\n",
       "  </thead>\n",
       "  <tbody>\n",
       "    <tr>\n",
       "      <th>1</th>\n",
       "      <td>-0.255049</td>\n",
       "    </tr>\n",
       "    <tr>\n",
       "      <th>2</th>\n",
       "      <td>0.566098</td>\n",
       "    </tr>\n",
       "    <tr>\n",
       "      <th>3</th>\n",
       "      <td>1.158796</td>\n",
       "    </tr>\n",
       "    <tr>\n",
       "      <th>4</th>\n",
       "      <td>2.028146</td>\n",
       "    </tr>\n",
       "    <tr>\n",
       "      <th>5</th>\n",
       "      <td>2.130005</td>\n",
       "    </tr>\n",
       "  </tbody>\n",
       "</table>\n",
       "</div>"
      ],
      "text/plain": [
       "         Bing_Liu_Score\n",
       "overall                \n",
       "1             -0.255049\n",
       "2              0.566098\n",
       "3              1.158796\n",
       "4              2.028146\n",
       "5              2.130005"
      ]
     },
     "execution_count": 25,
     "metadata": {},
     "output_type": "execute_result"
    }
   ],
   "source": [
    "df.groupby('overall').agg({'Bing_Liu_Score':'mean'})"
   ]
  },
  {
   "cell_type": "code",
   "execution_count": null,
   "id": "6a15a185",
   "metadata": {},
   "outputs": [],
   "source": []
  }
 ],
 "metadata": {
  "kernelspec": {
   "display_name": "Python 3 (ipykernel)",
   "language": "python",
   "name": "python3"
  },
  "language_info": {
   "codemirror_mode": {
    "name": "ipython",
    "version": 3
   },
   "file_extension": ".py",
   "mimetype": "text/x-python",
   "name": "python",
   "nbconvert_exporter": "python",
   "pygments_lexer": "ipython3",
   "version": "3.11.5"
  }
 },
 "nbformat": 4,
 "nbformat_minor": 5
}
