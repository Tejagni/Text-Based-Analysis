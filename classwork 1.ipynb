{
 "cells": [
  {
   "cell_type": "markdown",
   "id": "3d3047fa",
   "metadata": {},
   "source": [
    "## Basic string operations"
   ]
  },
  {
   "cell_type": "code",
   "execution_count": 1,
   "id": "a59ad703",
   "metadata": {},
   "outputs": [],
   "source": [
    "a=\"hello\""
   ]
  },
  {
   "cell_type": "code",
   "execution_count": 3,
   "id": "5ae0f8a5",
   "metadata": {},
   "outputs": [
    {
     "name": "stdout",
     "output_type": "stream",
     "text": [
      "hello\n"
     ]
    }
   ],
   "source": [
    "print(a) "
   ]
  },
  {
   "cell_type": "markdown",
   "id": "c2d9d3f4",
   "metadata": {},
   "source": [
    "## Accessing individual letters"
   ]
  },
  {
   "cell_type": "code",
   "execution_count": 4,
   "id": "c4c3100d",
   "metadata": {},
   "outputs": [
    {
     "name": "stdout",
     "output_type": "stream",
     "text": [
      "e\n"
     ]
    }
   ],
   "source": [
    "a = \"Hello! world\"\n",
    "print(a[1])"
   ]
  },
  {
   "cell_type": "code",
   "execution_count": 6,
   "id": "17a46820",
   "metadata": {},
   "outputs": [
    {
     "name": "stdout",
     "output_type": "stream",
     "text": [
      "ello! world\n"
     ]
    }
   ],
   "source": [
    "b = \"Hello! world\"\n",
    "print(b[1:])"
   ]
  },
  {
   "cell_type": "markdown",
   "id": "10a46c71",
   "metadata": {},
   "source": [
    "## Length String Operation"
   ]
  },
  {
   "cell_type": "code",
   "execution_count": 2,
   "id": "cacfcde1",
   "metadata": {},
   "outputs": [
    {
     "name": "stdout",
     "output_type": "stream",
     "text": [
      "12\n"
     ]
    }
   ],
   "source": [
    "a = \"Hello! world\"\n",
    "print(len(a))"
   ]
  },
  {
   "cell_type": "markdown",
   "id": "22cebbfa",
   "metadata": {},
   "source": [
    "## Upper String Operation"
   ]
  },
  {
   "cell_type": "code",
   "execution_count": 6,
   "id": "cce3a584",
   "metadata": {},
   "outputs": [
    {
     "name": "stdout",
     "output_type": "stream",
     "text": [
      "HELLO, WORLD\n"
     ]
    }
   ],
   "source": [
    "b = \"Hello, world\"\n",
    "print(b.upper())"
   ]
  },
  {
   "cell_type": "markdown",
   "id": "9fb8bf19",
   "metadata": {},
   "source": [
    "## lower String Operation"
   ]
  },
  {
   "cell_type": "code",
   "execution_count": 7,
   "id": "9fe28da6",
   "metadata": {},
   "outputs": [
    {
     "name": "stdout",
     "output_type": "stream",
     "text": [
      "hello, world\n"
     ]
    }
   ],
   "source": [
    "b = \"Hello, world\"\n",
    "print(b.lower())"
   ]
  },
  {
   "cell_type": "markdown",
   "id": "4e9e3ed5",
   "metadata": {},
   "source": [
    "## String ConcatenATIO"
   ]
  },
  {
   "cell_type": "code",
   "execution_count": 1,
   "id": "04ed2120",
   "metadata": {},
   "outputs": [
    {
     "name": "stdout",
     "output_type": "stream",
     "text": [
      "Hello world\n"
     ]
    }
   ],
   "source": [
    "a = \"Hello\"\n",
    "b = \"world\"\n",
    "c = a + \" \" + b\n",
    "print(c)"
   ]
  },
  {
   "cell_type": "markdown",
   "id": "c45e6395",
   "metadata": {},
   "source": [
    "##  string testing methods"
   ]
  },
  {
   "cell_type": "code",
   "execution_count": 5,
   "id": "fbf95e09",
   "metadata": {},
   "outputs": [
    {
     "name": "stdout",
     "output_type": "stream",
     "text": [
      "False\n"
     ]
    }
   ],
   "source": [
    "b = \"Hello, world\"\n",
    "print(b.isalnum())"
   ]
  },
  {
   "cell_type": "code",
   "execution_count": 6,
   "id": "2d3b72fa",
   "metadata": {},
   "outputs": [
    {
     "name": "stdout",
     "output_type": "stream",
     "text": [
      "False\n"
     ]
    }
   ],
   "source": [
    "b = \"Hello, world\"\n",
    "print(b.isdigit())"
   ]
  },
  {
   "cell_type": "code",
   "execution_count": 7,
   "id": "fbe568a5",
   "metadata": {},
   "outputs": [
    {
     "name": "stdout",
     "output_type": "stream",
     "text": [
      "True\n"
     ]
    }
   ],
   "source": [
    "a=\"23\"\n",
    "print(a.isdigit())"
   ]
  },
  {
   "cell_type": "code",
   "execution_count": 9,
   "id": "f7fc02f6",
   "metadata": {},
   "outputs": [
    {
     "name": "stdout",
     "output_type": "stream",
     "text": [
      "True\n"
     ]
    }
   ],
   "source": [
    "a=\"23\"\n",
    "print(a.isalnum())"
   ]
  },
  {
   "cell_type": "code",
   "execution_count": 8,
   "id": "032146ce",
   "metadata": {},
   "outputs": [
    {
     "name": "stdout",
     "output_type": "stream",
     "text": [
      "False\n"
     ]
    }
   ],
   "source": [
    "a = \"HELLO, WORLD\"\n",
    "print(a.islower())"
   ]
  },
  {
   "cell_type": "code",
   "execution_count": 9,
   "id": "89c51866",
   "metadata": {},
   "outputs": [
    {
     "name": "stdout",
     "output_type": "stream",
     "text": [
      "True\n"
     ]
    }
   ],
   "source": [
    "a = \"HELLO, WORLD\"\n",
    "print(a.isupper())"
   ]
  },
  {
   "cell_type": "code",
   "execution_count": 12,
   "id": "19a6a023",
   "metadata": {
    "scrolled": true
   },
   "outputs": [
    {
     "name": "stdout",
     "output_type": "stream",
     "text": [
      "False\n"
     ]
    }
   ],
   "source": [
    "a = \"HELLO, WORLD\"\n",
    "print(a.isspace())"
   ]
  },
  {
   "cell_type": "code",
   "execution_count": 8,
   "id": "9781453e",
   "metadata": {},
   "outputs": [
    {
     "name": "stdout",
     "output_type": "stream",
     "text": [
      "False\n"
     ]
    }
   ],
   "source": [
    "a=\"HELLO\"\n",
    "print(a.endswith(\"he\"))"
   ]
  },
  {
   "cell_type": "code",
   "execution_count": 9,
   "id": "bd113a9e",
   "metadata": {},
   "outputs": [
    {
     "name": "stdout",
     "output_type": "stream",
     "text": [
      "False\n"
     ]
    }
   ],
   "source": [
    "a=\"HELLO\"\n",
    "print(a.endswith(\"HE\"))"
   ]
  },
  {
   "cell_type": "code",
   "execution_count": 10,
   "id": "9ab32bba",
   "metadata": {},
   "outputs": [
    {
     "name": "stdout",
     "output_type": "stream",
     "text": [
      "True\n"
     ]
    }
   ],
   "source": [
    "a=\"HELLO\"\n",
    "print(a.endswith(\"LO\"))"
   ]
  },
  {
   "cell_type": "code",
   "execution_count": 11,
   "id": "0d772736",
   "metadata": {},
   "outputs": [
    {
     "name": "stdout",
     "output_type": "stream",
     "text": [
      "False\n"
     ]
    }
   ],
   "source": [
    "a=\"HELLO\"\n",
    "print(a.endswith(\"lo\"))"
   ]
  },
  {
   "cell_type": "code",
   "execution_count": 12,
   "id": "99468afe",
   "metadata": {},
   "outputs": [
    {
     "name": "stdout",
     "output_type": "stream",
     "text": [
      "True\n"
     ]
    }
   ],
   "source": [
    "a=\"Hello world\"\n",
    "print(a.endswith(\"orld\"))"
   ]
  },
  {
   "cell_type": "code",
   "execution_count": 13,
   "id": "1c711d23",
   "metadata": {},
   "outputs": [
    {
     "name": "stdout",
     "output_type": "stream",
     "text": [
      "False\n"
     ]
    }
   ],
   "source": [
    "a=\"Hello world\"\n",
    "print(a.endswith(\"Hello\"))"
   ]
  },
  {
   "cell_type": "code",
   "execution_count": 14,
   "id": "84f2ff0c",
   "metadata": {},
   "outputs": [
    {
     "name": "stdout",
     "output_type": "stream",
     "text": [
      "False\n"
     ]
    }
   ],
   "source": [
    "a=\"Hello world\"\n",
    "print(a.endswith(\"wold\"))"
   ]
  },
  {
   "cell_type": "code",
   "execution_count": 15,
   "id": "11c389ef",
   "metadata": {},
   "outputs": [
    {
     "name": "stdout",
     "output_type": "stream",
     "text": [
      "False\n"
     ]
    }
   ],
   "source": [
    "a=\"Hello world\"\n",
    "print(a.startswith(\"orld\"))\n"
   ]
  },
  {
   "cell_type": "code",
   "execution_count": 16,
   "id": "016e0fd7",
   "metadata": {},
   "outputs": [
    {
     "name": "stdout",
     "output_type": "stream",
     "text": [
      "True\n"
     ]
    }
   ],
   "source": [
    "a=\"Hello world\"\n",
    "print(a.startswith(\"Hello w\"))"
   ]
  },
  {
   "cell_type": "markdown",
   "id": "11d3a944",
   "metadata": {},
   "source": [
    "## Search and replace methods"
   ]
  },
  {
   "cell_type": "code",
   "execution_count": 17,
   "id": "ac5d5b98",
   "metadata": {},
   "outputs": [
    {
     "name": "stdout",
     "output_type": "stream",
     "text": [
      "7\n"
     ]
    }
   ],
   "source": [
    "a=\"Hello world\"\n",
    "print(a.find(\"orld\"))"
   ]
  },
  {
   "cell_type": "code",
   "execution_count": 1,
   "id": "af734bba",
   "metadata": {},
   "outputs": [
    {
     "name": "stdout",
     "output_type": "stream",
     "text": [
      "4\n"
     ]
    }
   ],
   "source": [
    "a=\"Hello world\"\n",
    "print(a.find(\"o\"))"
   ]
  },
  {
   "cell_type": "code",
   "execution_count": 18,
   "id": "8a9606de",
   "metadata": {},
   "outputs": [
    {
     "name": "stdout",
     "output_type": "stream",
     "text": [
      "Hello wgjy\n"
     ]
    }
   ],
   "source": [
    "a=\"Hello world\"\n",
    "print(a.replace(\"orld\",\"gjy\"))"
   ]
  },
  {
   "cell_type": "code",
   "execution_count": 2,
   "id": "d3efb3c3",
   "metadata": {},
   "outputs": [
    {
     "name": "stdout",
     "output_type": "stream",
     "text": [
      "Hello World\n"
     ]
    }
   ],
   "source": [
    "a=\"Hello world\"\n",
    "print(a.replace(\"w\",\"W\"))"
   ]
  },
  {
   "cell_type": "markdown",
   "id": "414811ec",
   "metadata": {},
   "source": [
    "## strip operations"
   ]
  },
  {
   "cell_type": "code",
   "execution_count": 13,
   "id": "541fc909",
   "metadata": {},
   "outputs": [
    {
     "name": "stdout",
     "output_type": "stream",
     "text": [
      "Hello world\n"
     ]
    }
   ],
   "source": [
    "a=\" Hello world\"\n",
    "print(a.strip())"
   ]
  },
  {
   "cell_type": "code",
   "execution_count": 15,
   "id": "d4f2953d",
   "metadata": {},
   "outputs": [
    {
     "name": "stdout",
     "output_type": "stream",
     "text": [
      "   Hello ,world\n"
     ]
    }
   ],
   "source": [
    "a=\"   Hello ,world\"\n",
    "print(a.rstrip())"
   ]
  },
  {
   "cell_type": "code",
   "execution_count": 21,
   "id": "2ce44264",
   "metadata": {},
   "outputs": [
    {
     "name": "stdout",
     "output_type": "stream",
     "text": [
      "Hello ,world\n"
     ]
    }
   ],
   "source": [
    "a=\" Hello ,world\"\n",
    "print(a.strip())"
   ]
  },
  {
   "cell_type": "code",
   "execution_count": 16,
   "id": "b18020eb",
   "metadata": {},
   "outputs": [
    {
     "name": "stdout",
     "output_type": "stream",
     "text": [
      " Hello ,world \n"
     ]
    }
   ],
   "source": [
    "a=\" Hello ,world \"\n",
    "x=a.lstrip()\n",
    "print(a)\n"
   ]
  },
  {
   "cell_type": "markdown",
   "id": "2ee3985a",
   "metadata": {},
   "source": [
    "## repetition operator"
   ]
  },
  {
   "cell_type": "code",
   "execution_count": 24,
   "id": "2a96aef1",
   "metadata": {},
   "outputs": [
    {
     "name": "stdout",
     "output_type": "stream",
     "text": [
      " Hello world Hello world Hello world\n"
     ]
    }
   ],
   "source": [
    "a=\" Hello world\"\n",
    "print(a*3)"
   ]
  },
  {
   "cell_type": "code",
   "execution_count": 4,
   "id": "34390d8b",
   "metadata": {},
   "outputs": [
    {
     "name": "stdout",
     "output_type": "stream",
     "text": [
      " Hello world\n",
      " Hello world\n",
      " Hello world\n",
      " Hello world\n",
      "\n"
     ]
    }
   ],
   "source": [
    "a=\" Hello world\\n\"\n",
    "print(a*4)"
   ]
  },
  {
   "cell_type": "markdown",
   "id": "0e428965",
   "metadata": {},
   "source": [
    "## splitting a string"
   ]
  },
  {
   "cell_type": "code",
   "execution_count": 26,
   "id": "78aaf732",
   "metadata": {},
   "outputs": [
    {
     "name": "stdout",
     "output_type": "stream",
     "text": [
      "['Hello', 'world']\n"
     ]
    }
   ],
   "source": [
    "a=\" Hello world\"\n",
    "x=a.split()\n",
    "print(x)\n"
   ]
  },
  {
   "cell_type": "code",
   "execution_count": 18,
   "id": "0ba05589",
   "metadata": {},
   "outputs": [
    {
     "name": "stdout",
     "output_type": "stream",
     "text": [
      "['1', '2', '3', '4', '5', '6']\n"
     ]
    }
   ],
   "source": [
    "b=\"1 2 3 4 5 6\"\n",
    "print(b.split())"
   ]
  },
  {
   "cell_type": "markdown",
   "id": "7a52b8b8",
   "metadata": {},
   "source": [
    "## string tokens"
   ]
  },
  {
   "cell_type": "code",
   "execution_count": 20,
   "id": "f055ee26",
   "metadata": {},
   "outputs": [
    {
     "data": {
      "text/plain": [
       "['peach', 'raspberry', 'strawberry', 'vanilla']"
      ]
     },
     "execution_count": 20,
     "metadata": {},
     "output_type": "execute_result"
    }
   ],
   "source": [
    "str = 'peach raspberry strawberry vanilla'\n",
    "tokens = str.split() \n",
    "tokens"
   ]
  },
  {
   "cell_type": "code",
   "execution_count": 21,
   "id": "eca2808e",
   "metadata": {},
   "outputs": [
    {
     "data": {
      "text/plain": [
       "['www', 'example', 'com']"
      ]
     },
     "execution_count": 21,
     "metadata": {},
     "output_type": "execute_result"
    }
   ],
   "source": [
    "my_address = 'www.example.com'\n",
    "tokens = my_address.split('.')\n",
    "tokens"
   ]
  },
  {
   "cell_type": "markdown",
   "id": "b097174d",
   "metadata": {},
   "source": [
    "## regex functions"
   ]
  },
  {
   "cell_type": "code",
   "execution_count": 32,
   "id": "bd73d246",
   "metadata": {},
   "outputs": [
    {
     "name": "stdout",
     "output_type": "stream",
     "text": [
      "['abc', 'abc', 'abc', 'abc', 'abc']\n"
     ]
    }
   ],
   "source": [
    "import regex as re\n",
    "def tokenize(text):\n",
    " return re.findall(r'abc', text)\n",
    "x = tokenize(\"abcd 45abc abc% abc.com acbrx .=.abc.=.ab c cba ABC\")\n",
    "print(x)"
   ]
  },
  {
   "cell_type": "code",
   "execution_count": 33,
   "id": "790dfbc0",
   "metadata": {},
   "outputs": [
    {
     "data": {
      "text/plain": [
       "['gooey', 'moody', 'roody', 'goofy', 'loopy']"
      ]
     },
     "execution_count": 33,
     "metadata": {},
     "output_type": "execute_result"
    }
   ],
   "source": [
    "import regex as re\n",
    "def tokenize(text):\n",
    " return re.findall(r'.oo.y', text)\n",
    "x = tokenize(\" abcd gooey moody broody goofy gummy mooooudy loopy ooy \")\n",
    "x"
   ]
  },
  {
   "cell_type": "code",
   "execution_count": 34,
   "id": "394c93ff",
   "metadata": {},
   "outputs": [
    {
     "name": "stdout",
     "output_type": "stream",
     "text": [
      "['The']\n",
      "[]\n"
     ]
    }
   ],
   "source": [
    "import regex as re\n",
    "def tokenize(text):\n",
    " return re.findall(r'^The', text)\n",
    "x = tokenize(\"Them \")\n",
    "print(x)\n",
    "y= tokenize(\"them\")\n",
    "print(y)"
   ]
  },
  {
   "cell_type": "code",
   "execution_count": 35,
   "id": "3231e453",
   "metadata": {},
   "outputs": [
    {
     "name": "stdout",
     "output_type": "stream",
     "text": [
      "['Bye']\n",
      "[]\n"
     ]
    }
   ],
   "source": [
    "import regex as re\n",
    "def tokenize(text):\n",
    " return re.findall(r'Bye$', text)\n",
    "x = tokenize(\"They said goodBye\")\n",
    "print(x)\n",
    "y= tokenize(\"He said goodBye \")\n",
    "print(y)"
   ]
  },
  {
   "cell_type": "code",
   "execution_count": 36,
   "id": "bfad22fe",
   "metadata": {},
   "outputs": [
    {
     "name": "stdout",
     "output_type": "stream",
     "text": [
      "['abc', 'xyz', 'xyz']\n"
     ]
    }
   ],
   "source": [
    "import regex as re\n",
    "def tokenize(text):\n",
    " return re.findall(r'abc|xyz', text)\n",
    "x = tokenize(\"abcd xsdxyz xyz derf\")\n",
    "print(x)"
   ]
  },
  {
   "cell_type": "code",
   "execution_count": 37,
   "id": "ff8bdc34",
   "metadata": {},
   "outputs": [
    {
     "name": "stdout",
     "output_type": "stream",
     "text": [
      "['Homer Simpson', 'Marge Simpson']\n",
      "['Homer', 'Marge']\n"
     ]
    }
   ],
   "source": [
    "import regex as re\n",
    "def tokenize1(text):\n",
    " return re.findall(r'Homer Simpson|Marge Simpson', text)\n",
    "def tokenize2(text):\n",
    " return re.findall(r'(Homer|Marge) Simpson', text)\n",
    "x = tokenize1(\"Homer Williams Homer Simpson Marge Simpson\")\n",
    "print(x)\n",
    "x = tokenize2(\"Homer Williams Homer Simpson Marge Simpson\")\n",
    "print(x)"
   ]
  },
  {
   "cell_type": "code",
   "execution_count": 5,
   "id": "2e5db477",
   "metadata": {},
   "outputs": [
    {
     "name": "stdout",
     "output_type": "stream",
     "text": [
      "['abc', 'ab', 'abcccc', 'ab', 'abcccccccc', 'ab']\n"
     ]
    }
   ],
   "source": [
    "import regex as re\n",
    "def tokenize(text):\n",
    "    return re.findall(r'abc*', text)\n",
    "x = tokenize(\"abcd ab abcccc acb abbbbc abcccccccc fabulous\")\n",
    "print(x)"
   ]
  }
 ],
 "metadata": {
  "kernelspec": {
   "display_name": "Python 3 (ipykernel)",
   "language": "python",
   "name": "python3"
  },
  "language_info": {
   "codemirror_mode": {
    "name": "ipython",
    "version": 3
   },
   "file_extension": ".py",
   "mimetype": "text/x-python",
   "name": "python",
   "nbconvert_exporter": "python",
   "pygments_lexer": "ipython3",
   "version": "3.11.5"
  }
 },
 "nbformat": 4,
 "nbformat_minor": 5
}
