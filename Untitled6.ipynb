{
 "cells": [
  {
   "cell_type": "code",
   "execution_count": 1,
   "id": "762e4719",
   "metadata": {},
   "outputs": [],
   "source": [
    "a=\"hello\""
   ]
  },
  {
   "cell_type": "code",
   "execution_count": 3,
   "id": "b5bf052e",
   "metadata": {},
   "outputs": [
    {
     "name": "stdout",
     "output_type": "stream",
     "text": [
      "hello\n"
     ]
    }
   ],
   "source": [
    "print(a) \n"
   ]
  },
  {
   "cell_type": "code",
   "execution_count": 4,
   "id": "164e1320",
   "metadata": {},
   "outputs": [
    {
     "name": "stdout",
     "output_type": "stream",
     "text": [
      "e\n"
     ]
    }
   ],
   "source": [
    "a = \"Hello! world\"\n",
    "print(a[1])"
   ]
  },
  {
   "cell_type": "code",
   "execution_count": 6,
   "id": "3f845b5e",
   "metadata": {},
   "outputs": [
    {
     "name": "stdout",
     "output_type": "stream",
     "text": [
      "ello! world\n"
     ]
    }
   ],
   "source": [
    "b = \"Hello! world\"\n",
    "print(b[1:])"
   ]
  },
  {
   "cell_type": "code",
   "execution_count": 8,
   "id": "9f36c33b",
   "metadata": {},
   "outputs": [
    {
     "name": "stdout",
     "output_type": "stream",
     "text": [
      "False\n"
     ]
    }
   ],
   "source": [
    "a=\"HELLO\"\n",
    "print(a.endswith(\"he\"))"
   ]
  },
  {
   "cell_type": "code",
   "execution_count": 9,
   "id": "cbdc73bf",
   "metadata": {},
   "outputs": [
    {
     "name": "stdout",
     "output_type": "stream",
     "text": [
      "False\n"
     ]
    }
   ],
   "source": [
    "a=\"HELLO\"\n",
    "print(a.endswith(\"HE\"))"
   ]
  },
  {
   "cell_type": "code",
   "execution_count": 10,
   "id": "3ae52ead",
   "metadata": {},
   "outputs": [
    {
     "name": "stdout",
     "output_type": "stream",
     "text": [
      "True\n"
     ]
    }
   ],
   "source": [
    "a=\"HELLO\"\n",
    "print(a.endswith(\"LO\"))"
   ]
  },
  {
   "cell_type": "code",
   "execution_count": 11,
   "id": "25cd5a1f",
   "metadata": {},
   "outputs": [
    {
     "name": "stdout",
     "output_type": "stream",
     "text": [
      "False\n"
     ]
    }
   ],
   "source": [
    "a=\"HELLO\"\n",
    "print(a.endswith(\"lo\"))"
   ]
  },
  {
   "cell_type": "code",
   "execution_count": 12,
   "id": "e9628448",
   "metadata": {},
   "outputs": [
    {
     "name": "stdout",
     "output_type": "stream",
     "text": [
      "True\n"
     ]
    }
   ],
   "source": [
    "a=\"Hello world\"\n",
    "print(a.endswith(\"orld\"))"
   ]
  },
  {
   "cell_type": "code",
   "execution_count": 13,
   "id": "a3137002",
   "metadata": {},
   "outputs": [
    {
     "name": "stdout",
     "output_type": "stream",
     "text": [
      "False\n"
     ]
    }
   ],
   "source": [
    "a=\"Hello world\"\n",
    "print(a.endswith(\"Hello\"))"
   ]
  },
  {
   "cell_type": "code",
   "execution_count": 14,
   "id": "84b55e23",
   "metadata": {},
   "outputs": [
    {
     "name": "stdout",
     "output_type": "stream",
     "text": [
      "False\n"
     ]
    }
   ],
   "source": [
    "a=\"Hello world\"\n",
    "print(a.endswith(\"wold\"))"
   ]
  },
  {
   "cell_type": "code",
   "execution_count": 15,
   "id": "1590c54d",
   "metadata": {},
   "outputs": [
    {
     "name": "stdout",
     "output_type": "stream",
     "text": [
      "False\n"
     ]
    }
   ],
   "source": [
    "a=\"Hello world\"\n",
    "print(a.startswith(\"orld\"))\n"
   ]
  },
  {
   "cell_type": "code",
   "execution_count": 16,
   "id": "fe27bd60",
   "metadata": {},
   "outputs": [
    {
     "name": "stdout",
     "output_type": "stream",
     "text": [
      "True\n"
     ]
    }
   ],
   "source": [
    "a=\"Hello world\"\n",
    "print(a.startswith(\"Hello w\"))"
   ]
  },
  {
   "cell_type": "code",
   "execution_count": 17,
   "id": "f021a92e",
   "metadata": {},
   "outputs": [
    {
     "name": "stdout",
     "output_type": "stream",
     "text": [
      "7\n"
     ]
    }
   ],
   "source": [
    "a=\"Hello world\"\n",
    "print(a.find(\"orld\"))"
   ]
  },
  {
   "cell_type": "code",
   "execution_count": 18,
   "id": "c2d0675e",
   "metadata": {},
   "outputs": [
    {
     "name": "stdout",
     "output_type": "stream",
     "text": [
      "Hello wgjy\n"
     ]
    }
   ],
   "source": [
    "a=\"Hello world\"\n",
    "print(a.replace(\"orld\",\"gjy\"))"
   ]
  },
  {
   "cell_type": "code",
   "execution_count": 19,
   "id": "73d981c9",
   "metadata": {},
   "outputs": [
    {
     "name": "stdout",
     "output_type": "stream",
     "text": [
      "Hello world\n"
     ]
    }
   ],
   "source": [
    "a=\"Hello world\"\n",
    "print(a.strip())"
   ]
  },
  {
   "cell_type": "code",
   "execution_count": 20,
   "id": "b0501269",
   "metadata": {},
   "outputs": [
    {
     "name": "stdout",
     "output_type": "stream",
     "text": [
      "Hello ,world\n"
     ]
    }
   ],
   "source": [
    "a=\"Hello ,world\"\n",
    "print(a.strip())"
   ]
  },
  {
   "cell_type": "code",
   "execution_count": 21,
   "id": "2caef924",
   "metadata": {},
   "outputs": [
    {
     "name": "stdout",
     "output_type": "stream",
     "text": [
      "Hello ,world\n"
     ]
    }
   ],
   "source": [
    "a=\" Hello ,world\"\n",
    "print(a.strip())"
   ]
  },
  {
   "cell_type": "code",
   "execution_count": 22,
   "id": "46f2624f",
   "metadata": {},
   "outputs": [
    {
     "name": "stdout",
     "output_type": "stream",
     "text": [
      " Hello ,world\n"
     ]
    }
   ],
   "source": [
    "a=\" Hello ,world\"\n",
    "x=a.strip()\n",
    "print(a)\n"
   ]
  },
  {
   "cell_type": "code",
   "execution_count": 23,
   "id": "75448641",
   "metadata": {},
   "outputs": [
    {
     "name": "stdout",
     "output_type": "stream",
     "text": [
      "Hello ,world\n"
     ]
    }
   ],
   "source": [
    "a=\" Hello ,world\"\n",
    "x=a.strip()\n",
    "print(x)"
   ]
  },
  {
   "cell_type": "code",
   "execution_count": 24,
   "id": "b2b015a7",
   "metadata": {},
   "outputs": [
    {
     "name": "stdout",
     "output_type": "stream",
     "text": [
      " Hello world Hello world Hello world\n"
     ]
    }
   ],
   "source": [
    "a=\" Hello world\"\n",
    "print(a*3)"
   ]
  },
  {
   "cell_type": "code",
   "execution_count": 26,
   "id": "25fed62f",
   "metadata": {},
   "outputs": [
    {
     "name": "stdout",
     "output_type": "stream",
     "text": [
      "['Hello', 'world']\n"
     ]
    }
   ],
   "source": [
    "a=\" Hello world\"\n",
    "x=a.split()\n",
    "print(x)\n"
   ]
  },
  {
   "cell_type": "code",
   "execution_count": 28,
   "id": "90c4893b",
   "metadata": {},
   "outputs": [
    {
     "name": "stdout",
     "output_type": "stream",
     "text": [
      "hello world ('w', 'W')\n"
     ]
    }
   ],
   "source": [
    "a=\"Hello world\"\n",
    "print(a.replace(\"H\",\"h\"),(\"w\",\"W\"))"
   ]
  },
  {
   "cell_type": "code",
   "execution_count": 30,
   "id": "192644fe",
   "metadata": {},
   "outputs": [
    {
     "ename": "SyntaxError",
     "evalue": "unexpected character after line continuation character (2047365431.py, line 1)",
     "output_type": "error",
     "traceback": [
      "\u001b[1;36m  Cell \u001b[1;32mIn[30], line 1\u001b[1;36m\u001b[0m\n\u001b[1;33m    [a-zA-Z_\\-]+@(([a-zA-Z_\\-])+\\.)+[a-zA-Z]{2,4}/()\u001b[0m\n\u001b[1;37m             ^\u001b[0m\n\u001b[1;31mSyntaxError\u001b[0m\u001b[1;31m:\u001b[0m unexpected character after line continuation character\n"
     ]
    }
   ],
   "source": [
    "/[a-zA-Z_\\-]+@(([a-zA-Z_\\-])+\\.)+[a-zA-Z]{2,4}/\n",
    "moi@cs.college.edu , tombrady@gmail"
   ]
  },
  {
   "cell_type": "code",
   "execution_count": 31,
   "id": "1a05cb10",
   "metadata": {},
   "outputs": [
    {
     "ename": "NameError",
     "evalue": "name 'z' is not defined",
     "output_type": "error",
     "traceback": [
      "\u001b[1;31m---------------------------------------------------------------------------\u001b[0m",
      "\u001b[1;31mNameError\u001b[0m                                 Traceback (most recent call last)",
      "Cell \u001b[1;32mIn[31], line 1\u001b[0m\n\u001b[1;32m----> 1\u001b[0m [a\u001b[38;5;241m-\u001b[39mz[A\u001b[38;5;241m-\u001b[39mZ]]\u001b[38;5;241m/\u001b[39m()\n\u001b[0;32m      2\u001b[0m tfjfudy\n",
      "\u001b[1;31mNameError\u001b[0m: name 'z' is not defined"
     ]
    }
   ],
   "source": [
    "/[a-z[A-Z]]/\n",
    "tfjfudy"
   ]
  },
  {
   "cell_type": "code",
   "execution_count": 32,
   "id": "156e5d1d",
   "metadata": {},
   "outputs": [
    {
     "name": "stdout",
     "output_type": "stream",
     "text": [
      "['abc', 'abc', 'abc', 'abc', 'abc']\n"
     ]
    }
   ],
   "source": [
    "import regex as re\n",
    "def tokenize(text):\n",
    " return re.findall(r'abc', text)\n",
    "x = tokenize(\"abcd 45abc abc% abc.com acbrx .=.abc.=.ab c cba ABC\")\n",
    "print(x)"
   ]
  },
  {
   "cell_type": "code",
   "execution_count": 33,
   "id": "fc140736",
   "metadata": {},
   "outputs": [
    {
     "data": {
      "text/plain": [
       "['gooey', 'moody', 'roody', 'goofy', 'loopy']"
      ]
     },
     "execution_count": 33,
     "metadata": {},
     "output_type": "execute_result"
    }
   ],
   "source": [
    "import regex as re\n",
    "def tokenize(text):\n",
    " return re.findall(r'.oo.y', text)\n",
    "x = tokenize(\" abcd gooey moody broody goofy gummy mooooudy loopy ooy \")\n",
    "x"
   ]
  },
  {
   "cell_type": "code",
   "execution_count": 34,
   "id": "e740ce73",
   "metadata": {},
   "outputs": [
    {
     "name": "stdout",
     "output_type": "stream",
     "text": [
      "['The']\n",
      "[]\n"
     ]
    }
   ],
   "source": [
    "import regex as re\n",
    "def tokenize(text):\n",
    " return re.findall(r'^The', text)\n",
    "x = tokenize(\"Them \")\n",
    "print(x)\n",
    "y= tokenize(\"them\")\n",
    "print(y)"
   ]
  },
  {
   "cell_type": "code",
   "execution_count": 35,
   "id": "da7e1c29",
   "metadata": {},
   "outputs": [
    {
     "name": "stdout",
     "output_type": "stream",
     "text": [
      "['Bye']\n",
      "[]\n"
     ]
    }
   ],
   "source": [
    "import regex as re\n",
    "def tokenize(text):\n",
    " return re.findall(r'Bye$', text)\n",
    "x = tokenize(\"They said goodBye\")\n",
    "print(x)\n",
    "y= tokenize(\"He said goodBye \")\n",
    "print(y)"
   ]
  },
  {
   "cell_type": "code",
   "execution_count": 36,
   "id": "cd9e79b5",
   "metadata": {},
   "outputs": [
    {
     "name": "stdout",
     "output_type": "stream",
     "text": [
      "['abc', 'xyz', 'xyz']\n"
     ]
    }
   ],
   "source": [
    "import regex as re\n",
    "def tokenize(text):\n",
    " return re.findall(r'abc|xyz', text)\n",
    "x = tokenize(\"abcd xsdxyz xyz derf\")\n",
    "print(x)"
   ]
  },
  {
   "cell_type": "code",
   "execution_count": 37,
   "id": "87db5918",
   "metadata": {},
   "outputs": [
    {
     "name": "stdout",
     "output_type": "stream",
     "text": [
      "['Homer Simpson', 'Marge Simpson']\n",
      "['Homer', 'Marge']\n"
     ]
    }
   ],
   "source": [
    "import regex as re\n",
    "def tokenize1(text):\n",
    " return re.findall(r'Homer Simpson|Marge Simpson', text)\n",
    "def tokenize2(text):\n",
    " return re.findall(r'(Homer|Marge) Simpson', text)\n",
    "x = tokenize1(\"Homer Williams Homer Simpson Marge Simpson\")\n",
    "print(x)\n",
    "x = tokenize2(\"Homer Williams Homer Simpson Marge Simpson\")\n",
    "print(x)"
   ]
  },
  {
   "cell_type": "code",
   "execution_count": null,
   "id": "4b2a96b2",
   "metadata": {},
   "outputs": [],
   "source": []
  }
 ],
 "metadata": {
  "kernelspec": {
   "display_name": "Python 3 (ipykernel)",
   "language": "python",
   "name": "python3"
  },
  "language_info": {
   "codemirror_mode": {
    "name": "ipython",
    "version": 3
   },
   "file_extension": ".py",
   "mimetype": "text/x-python",
   "name": "python",
   "nbconvert_exporter": "python",
   "pygments_lexer": "ipython3",
   "version": "3.11.5"
  }
 },
 "nbformat": 4,
 "nbformat_minor": 5
}
